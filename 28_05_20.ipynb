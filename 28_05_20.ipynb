{
  "nbformat": 4,
  "nbformat_minor": 0,
  "metadata": {
    "colab": {
      "name": "28-05-20",
      "provenance": [],
      "collapsed_sections": [],
      "include_colab_link": true
    },
    "kernelspec": {
      "display_name": "Python 3",
      "name": "python3"
    }
  },
  "cells": [
    {
      "cell_type": "markdown",
      "metadata": {
        "id": "view-in-github",
        "colab_type": "text"
      },
      "source": [
        "<a href=\"https://colab.research.google.com/github/rohithpadakanti/AL-ML/blob/master/28_05_20.ipynb\" target=\"_parent\"><img src=\"https://colab.research.google.com/assets/colab-badge.svg\" alt=\"Open In Colab\"/></a>"
      ]
    },
    {
      "cell_type": "code",
      "metadata": {
        "id": "EEuJCp35et36",
        "colab_type": "code",
        "outputId": "e2f42df3-4d7e-4f61-c54d-d677ee7c0153",
        "colab": {
          "base_uri": "https://localhost:8080/",
          "height": 51
        }
      },
      "source": [
        "s1 = 'python'\n",
        "print(\"on\" in s1)\n",
        "print(\"on\" not in s1)"
      ],
      "execution_count": 0,
      "outputs": [
        {
          "output_type": "stream",
          "text": [
            "True\n",
            "False\n"
          ],
          "name": "stdout"
        }
      ]
    },
    {
      "cell_type": "markdown",
      "metadata": {
        "id": "c3FRadOUe_yE",
        "colab_type": "text"
      },
      "source": [
        ""
      ]
    },
    {
      "cell_type": "code",
      "metadata": {
        "id": "6LYpH_vofALu",
        "colab_type": "code",
        "colab": {
          "base_uri": "https://localhost:8080/",
          "height": 120
        },
        "outputId": "84618a62-c382-4739-fa67-ff9acf901267"
      },
      "source": [
        "s2 ='hello'\n",
        "s3 = 'abc123'\n",
        "s4 = '123'\n",
        "print(s2.isalpha())\n",
        "print(s2.isalnum())\n",
        "print(s2.isdigit())\n",
        "print(s3.isalpha())\n",
        "print(s3.isalnum())\n",
        "print(s3.isdigit())"
      ],
      "execution_count": 4,
      "outputs": [
        {
          "output_type": "stream",
          "text": [
            "True\n",
            "True\n",
            "False\n",
            "False\n",
            "True\n",
            "False\n"
          ],
          "name": "stdout"
        }
      ]
    },
    {
      "cell_type": "code",
      "metadata": {
        "id": "XIylgPgjqdIm",
        "colab_type": "code",
        "colab": {
          "base_uri": "https://localhost:8080/",
          "height": 85
        },
        "outputId": "bae1d27f-8df0-4927-caa3-5e915fcaa647"
      },
      "source": [
        "s1= 'python'\n",
        "s2= 'PYTHON'\n",
        "print(s1.isupper())\n",
        "print(s2.isupper())\n",
        "print(s2.islower())\n",
        "print(s2.islower())"
      ],
      "execution_count": 9,
      "outputs": [
        {
          "output_type": "stream",
          "text": [
            "False\n",
            "True\n",
            "False\n",
            "False\n"
          ],
          "name": "stdout"
        }
      ]
    },
    {
      "cell_type": "code",
      "metadata": {
        "id": "U6tsHpGUrHPv",
        "colab_type": "code",
        "colab": {
          "base_uri": "https://localhost:8080/",
          "height": 68
        },
        "outputId": "b421edfa-34b8-4698-c3c4-1103ff5c1ad2"
      },
      "source": [
        "print(s1.upper())\n",
        "print(s1.lower())\n",
        "print(s1.swapcase())"
      ],
      "execution_count": 13,
      "outputs": [
        {
          "output_type": "stream",
          "text": [
            "PYTHON\n",
            "python\n",
            "PYTHON\n"
          ],
          "name": "stdout"
        }
      ]
    },
    {
      "cell_type": "code",
      "metadata": {
        "id": "7prqXIGYsbBG",
        "colab_type": "code",
        "colab": {
          "base_uri": "https://localhost:8080/",
          "height": 34
        },
        "outputId": "dd8791e2-6f9d-4349-df99-be0a63f73404"
      },
      "source": [
        "s3='pyTHOn'\n",
        "print(s3.swapcase())"
      ],
      "execution_count": 16,
      "outputs": [
        {
          "output_type": "stream",
          "text": [
            "PYthoN\n"
          ],
          "name": "stdout"
        }
      ]
    },
    {
      "cell_type": "code",
      "metadata": {
        "id": "2Q0byyfis9vE",
        "colab_type": "code",
        "colab": {
          "base_uri": "https://localhost:8080/",
          "height": 34
        },
        "outputId": "c7d2c2c6-eb9a-464a-cba0-3d598d0f0cff"
      },
      "source": [
        "s='abc abc abc'\n",
        "s.count(\"abc\")"
      ],
      "execution_count": 18,
      "outputs": [
        {
          "output_type": "execute_result",
          "data": {
            "text/plain": [
              "3"
            ]
          },
          "metadata": {
            "tags": []
          },
          "execution_count": 18
        }
      ]
    },
    {
      "cell_type": "code",
      "metadata": {
        "id": "GKRyvOYcuPYX",
        "colab_type": "code",
        "colab": {
          "base_uri": "https://localhost:8080/",
          "height": 51
        },
        "outputId": "f51b7857-8c22-471c-a622-7678e071c88b"
      },
      "source": [
        "print(s.split())\n",
        "s6 =\"a,b,c,d\"\n",
        " \n",
        "print(s6.split(\",\"))"
      ],
      "execution_count": 22,
      "outputs": [
        {
          "output_type": "stream",
          "text": [
            "['abc', 'abc', 'abc']\n",
            "['a', 'b', 'c', 'd']\n"
          ],
          "name": "stdout"
        }
      ]
    },
    {
      "cell_type": "code",
      "metadata": {
        "id": "5PFKRVj9uuTy",
        "colab_type": "code",
        "colab": {
          "base_uri": "https://localhost:8080/",
          "height": 34
        },
        "outputId": "f1cb3e81-e808-4aaa-a522-d404ed300683"
      },
      "source": [
        "s= \"abc\"\n",
        "s=s.replace('b','z')\n",
        "print(s)"
      ],
      "execution_count": 27,
      "outputs": [
        {
          "output_type": "stream",
          "text": [
            "azc\n"
          ],
          "name": "stdout"
        }
      ]
    },
    {
      "cell_type": "code",
      "metadata": {
        "id": "uuItVUeyvwji",
        "colab_type": "code",
        "colab": {}
      },
      "source": [
        "n=int(input(\"enter position\"))\n",
        "s=(input(\"enter string\"))\n",
        "print(s.replace[n-1],\"\",1)"
      ],
      "execution_count": 0,
      "outputs": []
    },
    {
      "cell_type": "code",
      "metadata": {
        "id": "tKrtdM-azkT5",
        "colab_type": "code",
        "colab": {
          "base_uri": "https://localhost:8080/",
          "height": 51
        },
        "outputId": "c8a33a1e-eb4f-4be6-f043-f2a94a449c4c"
      },
      "source": [
        "n=10\n",
        "for i in range(1,n+1):\n",
        "    print(i,end=\"\")\n",
        " \n",
        "print()\n",
        " \n",
        "i=1\n",
        "while i<=n:\n",
        "    print(i,end=\"\")\n",
        "    i+=1"
      ],
      "execution_count": 38,
      "outputs": [
        {
          "output_type": "stream",
          "text": [
            "12345678910\n",
            "12345678910"
          ],
          "name": "stdout"
        }
      ]
    },
    {
      "cell_type": "code",
      "metadata": {
        "id": "OC3bBqZb1jCL",
        "colab_type": "code",
        "colab": {
          "base_uri": "https://localhost:8080/",
          "height": 223
        },
        "outputId": "f2b74fea-7f87-43a4-ddea-17cdf9b3e1b8"
      },
      "source": [
        "s=\"python\"\n",
        "for i in s:\n",
        "    print(i)\n",
        " \n",
        "i=0 \n",
        "while i< len(s):\n",
        "    print(s[i])\n",
        "    i+=1"
      ],
      "execution_count": 42,
      "outputs": [
        {
          "output_type": "stream",
          "text": [
            "p\n",
            "y\n",
            "t\n",
            "h\n",
            "o\n",
            "n\n",
            "p\n",
            "y\n",
            "t\n",
            "h\n",
            "o\n",
            "n\n"
          ],
          "name": "stdout"
        }
      ]
    }
  ]
}
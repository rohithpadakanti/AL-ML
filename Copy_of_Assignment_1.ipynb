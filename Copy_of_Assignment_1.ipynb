{
  "nbformat": 4,
  "nbformat_minor": 0,
  "metadata": {
    "colab": {
      "name": "Copy of Assignment-1",
      "provenance": [],
      "collapsed_sections": [],
      "include_colab_link": true
    },
    "kernelspec": {
      "display_name": "Python 3",
      "name": "python3"
    }
  },
  "cells": [
    {
      "cell_type": "markdown",
      "metadata": {
        "id": "view-in-github",
        "colab_type": "text"
      },
      "source": [
        "<a href=\"https://colab.research.google.com/github/rohithpadakanti/AL-ML/blob/master/Copy_of_Assignment_1.ipynb\" target=\"_parent\"><img src=\"https://colab.research.google.com/assets/colab-badge.svg\" alt=\"Open In Colab\"/></a>"
      ]
    },
    {
      "cell_type": "markdown",
      "metadata": {
        "id": "QMEBUMXKkmcu",
        "colab_type": "text"
      },
      "source": [
        "CSE-221710312038-P.ROHITH"
      ]
    },
    {
      "cell_type": "markdown",
      "metadata": {
        "id": "wPKFgXvA4O67",
        "colab_type": "text"
      },
      "source": [
        " 1.Generate the following pattern** ** * ** * * ** * * * *"
      ]
    },
    {
      "cell_type": "code",
      "metadata": {
        "id": "ZYqHMtmJ4WpA",
        "colab_type": "code",
        "outputId": "3f9ed979-5a75-4fcc-b82a-8bda50275db1",
        "colab": {
          "base_uri": "https://localhost:8080/",
          "height": 120
        }
      },
      "source": [
        " n=int(input(\"enter the rows: \"))\n",
        "def pypart(n): \n",
        "    for i in range(0, n):\n",
        "        for j in range(0, i+1): \n",
        "            print(\"* \",end=\"\")\n",
        "        print(\"\\r\")\n",
        " \n",
        "pypart(n)"
      ],
      "execution_count": 0,
      "outputs": [
        {
          "output_type": "stream",
          "text": [
            "enter the rows: 5\n",
            "* \n",
            "* * \n",
            "* * * \n",
            "* * * * \n",
            "* * * * * \n"
          ],
          "name": "stdout"
        }
      ]
    },
    {
      "cell_type": "markdown",
      "metadata": {
        "id": "iepoVeKC4p8D",
        "colab_type": "text"
      },
      "source": [
        " 2.Display multiplication table of K. Take k value from userEx: 7 x 1 =77 x 2 = 14 ....."
      ]
    },
    {
      "cell_type": "code",
      "metadata": {
        "id": "mZX3n5884t1H",
        "colab_type": "code",
        "outputId": "422a4d51-8b2d-4603-bff8-f97a63709324",
        "colab": {
          "base_uri": "https://localhost:8080/",
          "height": 205
        }
      },
      "source": [
        " num = int(input(\"Show the multiplication table of? \"))    \n",
        "for i in range(1,11):  \n",
        "   print(num,'x',i,'=',num*i)"
      ],
      "execution_count": 0,
      "outputs": [
        {
          "output_type": "stream",
          "text": [
            "Show the multiplication table of? 5\n",
            "5 x 1 = 5\n",
            "5 x 2 = 10\n",
            "5 x 3 = 15\n",
            "5 x 4 = 20\n",
            "5 x 5 = 25\n",
            "5 x 6 = 30\n",
            "5 x 7 = 35\n",
            "5 x 8 = 40\n",
            "5 x 9 = 45\n",
            "5 x 10 = 50\n"
          ],
          "name": "stdout"
        }
      ]
    },
    {
      "cell_type": "markdown",
      "metadata": {
        "id": "PqopJu9B42gk",
        "colab_type": "text"
      },
      "source": [
        " 3.Roots of quadratic equationTake the coefficients a,b,c from the user"
      ]
    },
    {
      "cell_type": "code",
      "metadata": {
        "id": "LXuuS2bu48En",
        "colab_type": "code",
        "outputId": "3667839e-a464-49e6-a1a7-4a5b4b256801",
        "colab": {
          "base_uri": "https://localhost:8080/",
          "height": 105
        }
      },
      "source": [
        " import cmath\n",
        "a = int(input('Enter a: '))  \n",
        "b = int(input('Enter b: '))  \n",
        "c = int(input('Enter c: '))  \n",
        "  \n",
        "# calculate the discriminant  \n",
        "d = (b**2) - (4*a*c)  \n",
        "  \n",
        "# find two solutions  \n",
        "sol1 = (-b-cmath.sqrt(d))/(2*a)  \n",
        "sol2 = (-b+cmath.sqrt(d))/(2*a)  \n",
        "print('The solution are {0} and {1}'.format(sol1,sol2))"
      ],
      "execution_count": 0,
      "outputs": [
        {
          "output_type": "stream",
          "text": [
            "Enter a: 2\n",
            "Enter b: 4\n",
            "Enter c: 5\n",
            "The solution are (-1-1.224744871391589j) and (-1+1.224744871391589j)\n"
          ],
          "name": "stdout"
        }
      ]
    },
    {
      "cell_type": "markdown",
      "metadata": {
        "id": "HtXiG1V75SiR",
        "colab_type": "text"
      },
      "source": [
        " 4.Convert a decimal number to Binary"
      ]
    },
    {
      "cell_type": "code",
      "metadata": {
        "id": "r-55cJSB5S7W",
        "colab_type": "code",
        "outputId": "518cb4b8-e305-4fb5-f345-90c83ebebca0",
        "colab": {
          "base_uri": "https://localhost:8080/",
          "height": 51
        }
      },
      "source": [
        " number = int(input(\"Enter any decimal number: \"))\n",
        " \n",
        " \n",
        "print(\"Equivalent Binary Number: \", bin(number))"
      ],
      "execution_count": 0,
      "outputs": [
        {
          "output_type": "stream",
          "text": [
            "Enter any decimal number: 24\n",
            "Equivalent Binary Number:  0b11000\n"
          ],
          "name": "stdout"
        }
      ]
    },
    {
      "cell_type": "markdown",
      "metadata": {
        "id": "JDPUsHuA5se4",
        "colab_type": "text"
      },
      "source": [
        " 5.Generate first N number of Fibonacci numbers. Take N value from the user"
      ]
    },
    {
      "cell_type": "code",
      "metadata": {
        "id": "XMzf-FKC5snt",
        "colab_type": "code",
        "outputId": "6a28e1d1-57c4-41f7-f8e5-91c9b9659cec",
        "colab": {
          "base_uri": "https://localhost:8080/",
          "height": 223
        }
      },
      "source": [
        " nterms = int(input(\"How many terms? \"))\n",
        "n1, n2 = 0, 1\n",
        "count = 0\n",
        "if nterms <= 0:\n",
        "   print(\"Please enter a positive integer\")\n",
        "elif nterms == 1:\n",
        "   print(\"Fibonacci sequence upto\",nterms,\":\")\n",
        "   print(n1)\n",
        "else:\n",
        "   print(\"Fibonacci sequence:\")\n",
        "   while count < nterms:\n",
        "       print(n1)\n",
        "       nth = n1 + n2\n",
        "       n1 = n2\n",
        "       n2 = nth\n",
        "       count += 1"
      ],
      "execution_count": 0,
      "outputs": [
        {
          "output_type": "stream",
          "text": [
            "How many terms? 10\n",
            "Fibonacci sequence:\n",
            "0\n",
            "1\n",
            "1\n",
            "2\n",
            "3\n",
            "5\n",
            "8\n",
            "13\n",
            "21\n",
            "34\n"
          ],
          "name": "stdout"
        }
      ]
    }
  ]
}